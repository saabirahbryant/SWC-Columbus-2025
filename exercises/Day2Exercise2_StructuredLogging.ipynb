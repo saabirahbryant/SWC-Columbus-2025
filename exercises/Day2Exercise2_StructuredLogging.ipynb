{
  "nbformat": 4,
  "nbformat_minor": 0,
  "metadata": {
    "colab": {
      "provenance": []
    },
    "kernelspec": {
      "name": "python3",
      "display_name": "Python 3"
    },
    "language_info": {
      "name": "python"
    }
  },
  "cells": [
    {
      "cell_type": "markdown",
      "source": [
        "# Day 2 Exercise 2 Structured Logging\n",
        "Write a small calculator function that performs division between two numbers, handles divide-by-zero errors gracefully without crashing the program, and logs any such error as a structured JSON object to a file named audit.log.\n",
        "\n",
        "\n",
        "Steps:\n",
        "1. Define a function that takes two numbers and performs division.\n",
        "2. Use a try-except block to catch any divide-by-zero errors.\n",
        "3. When an error occurs, log the event as a structured JSON object to a file named audit.log.\n",
        "4. Return either the result of the division or a friendly error message.\n",
        "\n",
        "\n",
        "Use this code to configure your logger:\n",
        "\n",
        "```\n",
        "# set up audit logger\n",
        "logger = logging.getLogger(\"audit\")\n",
        "logger.setLevel(logging.INFO)\n",
        "handler = logging.FileHandler(\"audit.log\")\n",
        "formatter = logging.Formatter('%(message)s')  # Log raw JSON\n",
        "handler.setFormatter(formatter)\n",
        "logger.addHandler(handler)\n",
        "```\n",
        "\n",
        "Use these function calls at the bottom of your script to test your code:\n",
        "\n",
        "```\n",
        "print(safe_divide(10, 2))\n",
        "print(safe_divide(10, 0))\n",
        "```\n",
        "\n",
        "Expected Output:\n",
        "\n",
        "```\n",
        "ERROR:audit:{\"error\": \"Division by zero attempt\", \"operation\": \"divide\", \"inputs\": {\"a\": 10, \"b\": 0}}\n",
        "5.0\n",
        "Error: Cannot divide by zero\n",
        "```"
      ],
      "metadata": {
        "id": "CcI7rxZocs_C"
      }
    },
    {
      "cell_type": "code",
      "source": [
        "# add your solution here\n",
        "\n",
        "\n",
        "\n",
        "\n",
        "\n",
        "\n",
        "\n"
      ],
      "metadata": {
        "id": "8HodmQr9dc7N"
      },
      "execution_count": null,
      "outputs": []
    },
    {
      "cell_type": "code",
      "source": [
        "import logging\n",
        "import json\n",
        "\n",
        "# set up the logger object\n",
        "logger = logging.getLogger(\"audit\")\n",
        "logger.setLevel(logging.INFO)\n",
        "handler = logging.FileHandler(\"audit.log\")\n",
        "formatter = logging.Formatter('%(message)s')\n",
        "handler.setFormatter(formatter)\n",
        "logger.addHandler(handler)\n",
        "\n",
        "# a simple function to test error handling\n",
        "def divide(a, b):\n",
        "    try:\n",
        "        return a / b\n",
        "    except ZeroDivisionError:\n",
        "        logger.error(json.dumps({\n",
        "            \"error\": \"Attempted division by zero\",\n",
        "            \"operation\": \"divide\",\n",
        "            \"inputs\": {\"a\": a, \"b\": b}\n",
        "        }))\n",
        "        return \"Cannot divide by zero.\"\n",
        "\n",
        "# function calls to test error handling\n",
        "print(divide(10, 2))\n",
        "print(divide(10, 0))"
      ],
      "metadata": {
        "id": "MPwpF-O6vVyj",
        "outputId": "dda6e525-9751-403c-f4d0-24b08887d6cf",
        "colab": {
          "base_uri": "https://localhost:8080/"
        }
      },
      "execution_count": 6,
      "outputs": [
        {
          "output_type": "stream",
          "name": "stderr",
          "text": [
            "ERROR:audit:{\"error\": \"Attempted division by zero\", \"operation\": \"divide\", \"inputs\": {\"a\": 10, \"b\": 0}}\n"
          ]
        },
        {
          "output_type": "stream",
          "name": "stdout",
          "text": [
            "5.0\n",
            "Cannot divide by zero.\n"
          ]
        }
      ]
    },
    {
      "cell_type": "code",
      "source": [
        "###\n",
        "###\n",
        "### SOLUTION\n",
        "###\n",
        "###\n",
        "\n",
        "import logging\n",
        "import json\n",
        "\n",
        "# set up audit logger\n",
        "logger = logging.getLogger(\"audit\")\n",
        "logger.setLevel(logging.INFO)\n",
        "handler = logging.FileHandler(\"audit.log\")\n",
        "formatter = logging.Formatter('%(message)s')  # Log raw JSON\n",
        "handler.setFormatter(formatter)\n",
        "logger.addHandler(handler)\n",
        "\n",
        "# define safe division function\n",
        "def safe_divide(a, b):\n",
        "    try:\n",
        "        return a / b\n",
        "    except ZeroDivisionError:\n",
        "        # log the error with context\n",
        "        logger.error(json.dumps({\n",
        "            \"error\": \"Division by zero attempt\",\n",
        "            \"operation\": \"divide\",\n",
        "            \"inputs\": {\"a\": a, \"b\": b}\n",
        "        }))\n",
        "        return \"Error:Cannot divide by zero\"\n",
        "\n",
        "# test the function\n",
        "print(safe_divide(10, 2))\n",
        "print(safe_divide(10, 0))"
      ],
      "metadata": {
        "id": "tYT1zgL0dfPZ",
        "outputId": "ec213259-a7cb-4c62-c121-f735247e8d82",
        "colab": {
          "base_uri": "https://localhost:8080/"
        }
      },
      "execution_count": 4,
      "outputs": [
        {
          "output_type": "stream",
          "name": "stderr",
          "text": [
            "ERROR:audit:{\"error\": \"Division by zero attempt\", \"operation\": \"divide\", \"inputs\": {\"a\": 10, \"b\": 0}}\n"
          ]
        },
        {
          "output_type": "stream",
          "name": "stdout",
          "text": [
            "5.0\n",
            "Error:Cannot divide by zero\n"
          ]
        }
      ]
    }
  ]
}