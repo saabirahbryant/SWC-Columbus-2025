{
  "nbformat": 4,
  "nbformat_minor": 0,
  "metadata": {
    "colab": {
      "provenance": []
    },
    "kernelspec": {
      "name": "python3",
      "display_name": "Python 3"
    },
    "language_info": {
      "name": "python"
    }
  },
  "cells": [
    {
      "cell_type": "markdown",
      "source": [
        "### Day 3 Exercise 2 RSA Signature Validation\n",
        "Use the cryptography library to perform digital signing and verification of a file's contents with RSA. Create a sample file, read the file's content, sign it using RSA with SHA-512, and then verify the signature using the corresponding public key.\n",
        "\n",
        "### Expected Output (your hash value will vary based on your file content)\n",
        "\n",
        "```\n",
        "RSA key pair generated.\n",
        "File signed.\n",
        "Signature (hex): 20a1bc89a0eb63aa330a219ce0c0131caf9d8b1b5897bb5c8e3b0c03a3009ffc679eb1b421fbbc9257fe4937dac987677e3d273ec6577885ce7e9e2f260f04c3d58c2dc5ad12d4038b7dc461a82cceaf2b05ccd23e447d56f92495d675324ace0236a8d2dca778338175509da9444263826268637806247cc04add6ab96ea827d2d309da21c07e4a923cf46b67695e99b2bdc2d048472dc0e3e76c71fde95a2b6ead5a9024e7f20a5073dbe5742ecc1120f0f30ffbf9a1feec4381c26c54616a5b9d6eb8b8aa26f5f6bbc3a7b46fe1b5b89be888cab648cb0545d262c9aabc32b0028698b4cb53105650d53b426393b941d532a6b28b54c4ee5e8582a23ac498\n",
        "eSignature is valid. File content is authentic and unchanged.\n",
        "```"
      ],
      "metadata": {
        "id": "Wq_lx5SrPpqx"
      }
    },
    {
      "cell_type": "code",
      "source": [
        "# Add your solution here\n",
        "# Generate RSA keys\n",
        "from cryptography.hazmat.primitives.asymmetric import rsa, padding\n",
        "from cryptography.hazmat.primitives import hashes\n",
        "import os\n",
        "private_key = rsa.generate_private_key(public_exponent=65537, key_size=2048)\n",
        "public_key = private_key.public_key()\n",
        "print(\"RSA key pair generated.\")\n",
        "\n",
        "# Sign a message\n",
        "message = b\"Verify me\"\n",
        "signature = private_key.sign(\n",
        "    message,\n",
        "    padding.PSS(\n",
        "        mgf=padding.MGF1(hashes.SHA512()),\n",
        "        salt_length=padding.PSS.MAX_LENGTH\n",
        "    ),\n",
        "    hashes.SHA256()\n",
        ")\n",
        "print(f\"Message signed: {message.decode()}\")\n",
        "print(f\"Signature (hex): {signature.hex()}\")\n",
        "\n",
        "# Verify the signature\n",
        "try:\n",
        "    public_key.verify(\n",
        "        signature,\n",
        "        message,\n",
        "        padding.PSS(\n",
        "            mgf=padding.MGF1(hashes.SHA512()),\n",
        "            salt_length=padding.PSS.MAX_LENGTH\n",
        "        ),\n",
        "        hashes.SHA256()\n",
        "    )\n",
        "    print(\"Signature is valid. Message is authentic and unchanged.\")\n",
        "except Exception as e:\n",
        "    print(\"Signature verification failed:\", str(e))\n",
        "\n",
        "\n",
        "\n",
        "\n"
      ],
      "metadata": {
        "id": "L6ADhc1ySJKf",
        "outputId": "6e363597-fc72-44b2-a9e0-07013b388c78",
        "colab": {
          "base_uri": "https://localhost:8080/"
        }
      },
      "execution_count": 3,
      "outputs": [
        {
          "output_type": "stream",
          "name": "stdout",
          "text": [
            "RSA key pair generated.\n",
            "Message signed: Verify me\n",
            "Signature (hex): 25b7673e87f5370840eb8fefedac2140f30a87c720eee474e81416b767146889349e8aa3229e9ebd87f7707a34aab79f0a7bdc5baf507432632f36444fa8b51a871a052ecdb8c8686a725774e02e35c9aca1de3b3da4ef90f5af3826d396dd1e60125c4b771ddcb79ac5632cce5d05cf046e92c8f810038eb1fe07914e0ff47d9790cd5a7791622f6090dc1a61adbb490f414aa97d7338314b62bdc3e0a3c2a5c0b4b21c581815337668abf89f5ddcb37737aa7693c07b6140b8f2fc614c11081b12890a12392cc8320588f0f5045f89bd2059d7752623faa96c8cbbfcf864724caeae9956ac3e5c94d83a30b1bfae3b4df26344e1a251859970fbc79b464e92\n",
            "Signature is valid. Message is authentic and unchanged.\n"
          ]
        }
      ]
    },
    {
      "cell_type": "code",
      "source": [
        "###\n",
        "###\n",
        "### SOLUTION\n",
        "###\n",
        "###\n",
        "\n",
        "from cryptography.hazmat.primitives.asymmetric import rsa, padding\n",
        "from cryptography.hazmat.primitives import hashes\n",
        "import os\n",
        "\n",
        "# create a sample file with some content\n",
        "filename = \"sample.txt\"\n",
        "with open(filename, \"w\") as f:\n",
        "    f.write(\"This is a secure message stored in a file.\\n\")\n",
        "\n",
        "# read the file's content as bytes\n",
        "with open(filename, \"rb\") as f:\n",
        "    file_data = f.read()\n",
        "\n",
        "# generate RSA key pair\n",
        "private_key = rsa.generate_private_key(public_exponent=65537, key_size=2048)\n",
        "public_key = private_key.public_key()\n",
        "print(\"RSA key pair generated.\")\n",
        "\n",
        "# sign the file data using SHA-512\n",
        "signature = private_key.sign(\n",
        "    file_data,\n",
        "    padding.PSS(\n",
        "        mgf=padding.MGF1(hashes.SHA512()),\n",
        "        salt_length=padding.PSS.MAX_LENGTH\n",
        "    ),\n",
        "    hashes.SHA512()\n",
        ")\n",
        "print(\"File signed.\")\n",
        "print(\"Signature (hex):\", signature.hex())\n",
        "\n",
        "# verify the signature\n",
        "try:\n",
        "    public_key.verify(\n",
        "        signature,\n",
        "        file_data,\n",
        "        padding.PSS(\n",
        "            mgf=padding.MGF1(hashes.SHA512()),\n",
        "            salt_length=padding.PSS.MAX_LENGTH\n",
        "        ),\n",
        "        hashes.SHA512()\n",
        "    )\n",
        "    print(\"eSignature is valid. File content is authentic and unchanged.\")\n",
        "except Exception as e:\n",
        "    print(\"Signature verification failed:\", str(e))\n",
        "\n",
        "\n"
      ],
      "metadata": {
        "id": "IzagKHrjSURY"
      },
      "execution_count": null,
      "outputs": []
    }
  ]
}